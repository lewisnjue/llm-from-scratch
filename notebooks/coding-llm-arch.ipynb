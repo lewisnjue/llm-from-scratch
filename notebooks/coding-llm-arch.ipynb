{
 "cells": [
  {
   "cell_type": "code",
   "execution_count": 1,
   "id": "96d2841f",
   "metadata": {},
   "outputs": [],
   "source": [
    "GPT_CONFIG_124M = {\n",
    "\"vocab_size\": 50257,\n",
    "\"context_length\": 1024,\n",
    "\"emb_dim\": 768,\n",
    "\"n_heads\": 12,\n",
    "\"n_layers\": 12,\n",
    "\"drop_rate\": 0.1,\n",
    "\"qkv_bias\": False\n",
    "}"
   ]
  },
  {
   "cell_type": "code",
   "execution_count": 2,
   "id": "21d27119",
   "metadata": {},
   "outputs": [],
   "source": [
    "#A placeholder GPT model architecture class \n",
    "\n",
    "import torch \n",
    "import torch.nn as nn "
   ]
  },
  {
   "cell_type": "code",
   "execution_count": 18,
   "id": "05017e8e",
   "metadata": {},
   "outputs": [],
   "source": [
    "class DummyLayerNorm(nn.Module):\n",
    "    def __init__(self,normalized_shape,eps=1e-5): \n",
    "        super().__init__() \n",
    "    \n",
    "    def forward(self,x): \n",
    "        return x # also not useful will will fix that later "
   ]
  },
  {
   "cell_type": "code",
   "execution_count": 19,
   "id": "5fb4783d",
   "metadata": {},
   "outputs": [],
   "source": [
    "class DummyTransformerBlock(nn.Module): \n",
    "    def __init__(self,cfg:dict=GPT_CONFIG_124M):\n",
    "        super().__init__() \n",
    "        self.cfg = cfg # :(\n",
    "        \n",
    "    def forward(self,x): \n",
    "        return x  # this block has nothing and just returns its input  "
   ]
  },
  {
   "cell_type": "code",
   "execution_count": 20,
   "id": "e7371121",
   "metadata": {},
   "outputs": [],
   "source": [
    "class DummpyGPTModel(nn.Module): \n",
    "    def __init__(self,cfg:dict=GPT_CONFIG_124M):\n",
    "        super().__init__() \n",
    "        self.tok_emb = nn.Embedding(cfg['vocab_size'],cfg['emb_dim']) \n",
    "        self.pos_emb = nn.Embedding(cfg['context_length'],cfg['emb_dim'])\n",
    "        self.drop_emb = nn.Dropout(cfg['drop_rate'])\n",
    "        self.trf_blocks = nn.Sequential(\n",
    "            *[DummyTransformerBlock(cfg) for _ in range(cfg['n_layers'])]\n",
    "        )\n",
    "        self.final_norm = DummyLayerNorm(cfg['emb_dim'])\n",
    "        self.out_head = nn.Linear(\n",
    "            cfg['emb_dim'],cfg['vocab_size'],bias=False\n",
    "        )\n",
    "    \n",
    "    def forward(self,in_idx:torch.Tensor): \n",
    "        batch_size , seq_len = in_idx.shape \n",
    "        tok_embeds = self.tok_emb(in_idx) \n",
    "        pos_embeds = self.pos_emb(\n",
    "            torch.arange(seq_len,device=in_idx.device)\n",
    "        )\n",
    "        x = tok_embeds + pos_embeds # B,T,C \n",
    "        x = self.drop_emb(x) \n",
    "        x  = self.trf_blocks(x) # B,T,C \n",
    "        x = self.final_norm(x) \n",
    "        logits = self.out_head(x) # B,T,vocab_size \n",
    "        return logits \n"
   ]
  },
  {
   "cell_type": "code",
   "execution_count": 21,
   "id": "270d88a7",
   "metadata": {},
   "outputs": [
    {
     "name": "stdout",
     "output_type": "stream",
     "text": [
      "tensor([[6109, 3626, 6100,  345],\n",
      "        [6109, 1110, 6622,  257]])\n"
     ]
    }
   ],
   "source": [
    "import tiktoken\n",
    "tokenizer = tiktoken.get_encoding(\"gpt2\")\n",
    "batch = []\n",
    "txt1 = \"Every effort moves you\"\n",
    "txt2 = \"Every day holds a\"\n",
    "batch.append(torch.tensor(tokenizer.encode(txt1)))\n",
    "batch.append(torch.tensor(tokenizer.encode(txt2)))\n",
    "batch = torch.stack(batch, dim=0)\n",
    "print(batch)"
   ]
  },
  {
   "cell_type": "code",
   "execution_count": 22,
   "id": "60d7d24d",
   "metadata": {},
   "outputs": [],
   "source": [
    "torch.manual_seed(123) \n",
    "model = DummpyGPTModel(GPT_CONFIG_124M) \n"
   ]
  },
  {
   "cell_type": "code",
   "execution_count": 23,
   "id": "55197966",
   "metadata": {},
   "outputs": [
    {
     "name": "stdout",
     "output_type": "stream",
     "text": [
      "Output shape: torch.Size([2, 4, 50257])\n",
      "tensor([[[-1.2034,  0.3201, -0.7130,  ..., -1.5548, -0.2390, -0.4667],\n",
      "         [-0.1192,  0.4539, -0.4432,  ...,  0.2392,  1.3469,  1.2430],\n",
      "         [ 0.5307,  1.6720, -0.4695,  ...,  1.1966,  0.0111,  0.5835],\n",
      "         [ 0.0139,  1.6755, -0.3388,  ...,  1.1586, -0.0435, -1.0400]],\n",
      "\n",
      "        [[-1.0908,  0.1798, -0.9484,  ..., -1.6047,  0.2439, -0.4530],\n",
      "         [-0.7860,  0.5581, -0.0610,  ...,  0.4835, -0.0077,  1.6621],\n",
      "         [ 0.3567,  1.2698, -0.6398,  ..., -0.0162, -0.1296,  0.3717],\n",
      "         [-0.2407, -0.7349, -0.5102,  ...,  2.0057, -0.3694,  0.1814]]],\n",
      "       grad_fn=<UnsafeViewBackward0>)\n"
     ]
    }
   ],
   "source": [
    "logits = model(batch)\n",
    "print(\"Output shape:\", logits.shape)\n",
    "print(logits)"
   ]
  },
  {
   "cell_type": "code",
   "execution_count": 25,
   "id": "edec2e16",
   "metadata": {},
   "outputs": [
    {
     "name": "stdout",
     "output_type": "stream",
     "text": [
      "tensor([[0.2260, 0.3470, 0.0000, 0.2216, 0.0000, 0.0000],\n",
      "        [0.2133, 0.2394, 0.0000, 0.5198, 0.3297, 0.0000]],\n",
      "       grad_fn=<ReluBackward0>)\n",
      "torch.Size([2, 6])\n"
     ]
    }
   ],
   "source": [
    "# normalizing activatins with layer normalization \n",
    "\n",
    "torch.manual_seed(123)\n",
    "batch_example = torch.randn(2,5) \n",
    "\n",
    "layer = nn.Sequential(nn.Linear(5,6), nn.ReLU()) \n",
    "\n",
    "out  = layer(batch_example) \n",
    "print(out); print(out.shape)"
   ]
  },
  {
   "cell_type": "code",
   "execution_count": 28,
   "id": "3357639b",
   "metadata": {},
   "outputs": [
    {
     "name": "stdout",
     "output_type": "stream",
     "text": [
      "Mean:\n",
      " tensor([[0.1324],\n",
      "        [0.2170]], grad_fn=<MeanBackward1>)\n",
      "Variance\n",
      " tensor([[0.0231],\n",
      "        [0.0398]], grad_fn=<VarBackward0>)\n"
     ]
    }
   ],
   "source": [
    "mean = torch.mean(out,dim=-1,keepdim=True) \n",
    "var = out.var(dim=-1,keepdim=True) \n",
    "\n",
    "print(\"Mean:\\n\",mean) \n",
    "print(\"Variance\\n\",var)"
   ]
  },
  {
   "cell_type": "code",
   "execution_count": 29,
   "id": "14fb7077",
   "metadata": {},
   "outputs": [
    {
     "name": "stdout",
     "output_type": "stream",
     "text": [
      "Normalized layer outputs:\n",
      " tensor([[ 0.6159,  1.4126, -0.8719,  0.5872, -0.8719, -0.8719],\n",
      "        [-0.0189,  0.1121, -1.0876,  1.5173,  0.5647, -1.0876]],\n",
      "       grad_fn=<DivBackward0>)\n",
      "Mean:\n",
      " tensor([[9.9341e-09],\n",
      "        [1.9868e-08]], grad_fn=<MeanBackward1>)\n",
      "Variance:\n",
      " tensor([[1.0000],\n",
      "        [1.0000]], grad_fn=<VarBackward0>)\n"
     ]
    }
   ],
   "source": [
    "out_norm = (out - mean) / torch.sqrt(var) \n",
    "\n",
    "mean = out_norm.mean(dim=-1,keepdim=True) \n",
    "var = out_norm.var(dim=-1,keepdim=True) \n",
    "print(\"Normalized layer outputs:\\n\",out_norm) \n",
    "print(\"Mean:\\n\",mean) \n",
    "print(\"Variance:\\n\",var) "
   ]
  },
  {
   "cell_type": "code",
   "execution_count": 30,
   "id": "35f627db",
   "metadata": {},
   "outputs": [
    {
     "name": "stdout",
     "output_type": "stream",
     "text": [
      "Mean:\n",
      " tensor([[0.0000],\n",
      "        [0.0000]], grad_fn=<MeanBackward1>)\n",
      "Variance:\n",
      " tensor([[1.0000],\n",
      "        [1.0000]], grad_fn=<VarBackward0>)\n"
     ]
    }
   ],
   "source": [
    "torch.set_printoptions(sci_mode=False)\n",
    "print(\"Mean:\\n\", mean)\n",
    "print(\"Variance:\\n\", var)"
   ]
  },
  {
   "cell_type": "code",
   "execution_count": 32,
   "id": "56458f78",
   "metadata": {},
   "outputs": [
    {
     "data": {
      "text/plain": [
       "' \\nIn our variance calculation method, we use an implemenation detail by setting \\nunbiased=False, this mean , in the varaince calculation , we divide by the \\nnumer of inputs n in the variance formula. This approach does not apply bessels correction \\nwhich typicaly uses n-1 instaed of n in the denominator to adjust for \\nbias in sample varaince . For LLLMs , where the embedding dimenstin n is significantly \\nlarge , the difference between n and n-1 is practically negligible.  i choose this approach \\nto ensure compatibiltiy the the GPT-2 model normalization layer and becasue it refrect \\nTensorflows default behaviour which is used to implement the original GPT-2 model. \\n'"
      ]
     },
     "execution_count": 32,
     "metadata": {},
     "output_type": "execute_result"
    }
   ],
   "source": [
    "class LayerNorm(nn.Module): \n",
    "    def __init__(self,emb_dim): \n",
    "        super().__init__() \n",
    "        self.eps = 1e-5 \n",
    "        self.scale = nn.Parameter(torch.ones(emb_dim)) \n",
    "        self.shift = nn.Parameter(torch.zeros(emb_dim)) \n",
    "    \n",
    "    def forward(self,x): \n",
    "        mean = x.mean(dim=-1,keepdim=True) \n",
    "        var = x.var(dim=-1,keepdim=True,unbiased=False) \n",
    "        norm_x  = (x - mean) / torch.sqrt(var + self.eps)\n",
    "        return self.scale * norm_x + self.shift # we are not forcing them to be gausian , model \n",
    "        # can do what it whant here :) \n",
    "\n",
    "\n",
    "\"\"\" \n",
    "In our variance calculation method, we use an implemenation detail by setting \n",
    "unbiased=False, this mean , in the varaince calculation , we divide by the \n",
    "numer of inputs n in the variance formula. This approach does not apply bessels correction \n",
    "which typicaly uses n-1 instaed of n in the denominator to adjust for \n",
    "bias in sample varaince . For LLLMs , where the embedding dimenstin n is significantly \n",
    "large , the difference between n and n-1 is practically negligible.  i choose this approach \n",
    "to ensure compatibiltiy the the GPT-2 model normalization layer and becasue it refrect \n",
    "Tensorflows default behaviour which is used to implement the original GPT-2 model. \n",
    "\"\"\""
   ]
  },
  {
   "cell_type": "code",
   "execution_count": 33,
   "id": "0e2cea0f",
   "metadata": {},
   "outputs": [
    {
     "name": "stdout",
     "output_type": "stream",
     "text": [
      "Mean:\n",
      " tensor([[-0.0000],\n",
      "        [ 0.0000]], grad_fn=<MeanBackward1>)\n",
      "Variance:\n",
      " tensor([[1.0000],\n",
      "        [1.0000]], grad_fn=<VarBackward0>)\n"
     ]
    }
   ],
   "source": [
    "ln = LayerNorm(emb_dim=5)\n",
    "\n",
    "out_ln = ln(batch_example) \n",
    "mean = out_ln.mean(dim=-1,keepdim=True) \n",
    "var = out_ln.var(dim=-1,unbiased=False,keepdim=True) \n",
    "print(\"Mean:\\n\",mean) \n",
    "print(\"Variance:\\n\",var) "
   ]
  },
  {
   "cell_type": "code",
   "execution_count": 34,
   "id": "34a81559",
   "metadata": {},
   "outputs": [],
   "source": [
    "\"\"\" \n",
    "if you are famiear with batch normalization, a common and traditional normalization\n",
    "method for neural networks, you may wonder how it compares to layer normalization. Unlike \n",
    "batch normalization, which normalizes across the batch dimenstin, layer normalization \n",
    "normalizes across the feature dimenstin. LLMS often rquires significant comutational \n",
    "resources , and the available hardware or the specific use case can dictate the \n",
    "batch size durin training or inference, since layer normalization normalizes each \n",
    "input independently of the batch size, if offers more flexibility and stability \n",
    "in these scenarios. \n",
    "\"\"\" \n",
    "#---------------------------------------------------------------------------\n",
    "# implementing a feed forward network with GELU activations \n",
    "\n",
    "class GELU(nn.Module):\n",
    "    def __init__(self):\n",
    "        super().__init__()\n",
    "    def forward(self, x):\n",
    "        return 0.5 * x * (1 + torch.tanh(\n",
    "        torch.sqrt(torch.tensor(2.0 / torch.pi)) *\n",
    "        (x + 0.044715 * torch.pow(x, 3))\n",
    "        ))"
   ]
  },
  {
   "cell_type": "code",
   "execution_count": 35,
   "id": "c8fa6767",
   "metadata": {},
   "outputs": [],
   "source": [
    "import matplotlib.pyplot as plt \n",
    "\n",
    "gelu, relu  = GELU(), nn.ReLU() \n",
    "\n"
   ]
  },
  {
   "cell_type": "code",
   "execution_count": 36,
   "id": "f6132ae8",
   "metadata": {},
   "outputs": [],
   "source": [
    "x = torch.linspace(-3,3,100) \n",
    "y_gelu, y_relu  = gelu(x), relu(x) \n",
    "\n"
   ]
  },
  {
   "cell_type": "code",
   "execution_count": 37,
   "id": "61175cf0",
   "metadata": {},
   "outputs": [
    {
     "data": {
      "image/png": "[encoded data removed]",
      "text/plain": [
       "<Figure size 800x300 with 2 Axes>"
      ]
     },
     "metadata": {},
     "output_type": "display_data"
    }
   ],
   "source": [
    "plt.figure(figsize=(8,3))\n",
    "\n",
    "for i, (y,label) in enumerate(zip([y_gelu,y_relu],[\"GELU\",\"RELU\"]),1): \n",
    "    plt.subplot(1,3,i) \n",
    "    plt.plot(x,y) \n",
    "    plt.title(f\"{label} activation function \" ) \n",
    "    plt.xlabel(\"x\") \n",
    "    plt.ylabel(f\"{label}(x)\")\n",
    "    plt.grid(True)\n",
    "\n",
    "plt.tight_layout() \n",
    "plt.show()"
   ]
  },
  {
   "cell_type": "code",
   "execution_count": 40,
   "id": "aa9bdb07",
   "metadata": {},
   "outputs": [],
   "source": [
    "class FeedForward(nn.Module): \n",
    "    def __init__(self,cfg:dict): \n",
    "        super().__init__() \n",
    "        self.layers = nn.Sequential(\n",
    "            nn.Linear(cfg['emb_dim'],4*cfg['emb_dim']),\n",
    "            GELU(), \n",
    "            nn.Linear(4 * cfg['emb_dim'], cfg['emb_dim'])\n",
    "        )\n",
    "    \n",
    "    def forward(self,x): \n",
    "        return self.layers(x) \n"
   ]
  },
  {
   "cell_type": "code",
   "execution_count": 41,
   "id": "6ac5882a",
   "metadata": {},
   "outputs": [
    {
     "name": "stdout",
     "output_type": "stream",
     "text": [
      "torch.Size([2, 3, 768])\n"
     ]
    }
   ],
   "source": [
    "ffn = FeedForward(GPT_CONFIG_124M) \n",
    "x = torch.rand(2,3,768) \n",
    "out = ffn(x) \n",
    "print(out.shape)"
   ]
  },
  {
   "cell_type": "code",
   "execution_count": 42,
   "id": "ee6ba1e6",
   "metadata": {},
   "outputs": [],
   "source": [
    "## adding shortcut connections \n",
    "\n",
    "class ExampleDeepNeuralNetwork(nn.Module): \n",
    "    def __init__(self,layer_sizes,use_shortcut): \n",
    "        super().__init__() \n",
    "        self.use_shortcut = use_shortcut  \n",
    "        self.layers = nn.ModuleList([\n",
    "            nn.Sequential(nn.Linear(layer_sizes[0],layer_sizes[1]), GELU()),\n",
    "            nn.Sequential(nn.Linear(layer_sizes[1],layer_sizes[2]),GELU()), \n",
    "            nn.Sequential(nn.Linear(layer_sizes[2],layer_sizes[3]),GELU()),\n",
    "            nn.Sequential(nn.Linear(layer_sizes[3],layer_sizes[4]),GELU()), \n",
    "            nn.Sequential(nn.Linear(layer_sizes[4],layer_sizes[5]),GELU())\n",
    "        ]) \n",
    "    \n",
    "    def forward(self,x): \n",
    "        for layer in self.layers: \n",
    "            layer_output = layer(x) \n",
    "            if self.use_shortcut and x.shape == layer_output.shape: \n",
    "                x = x + layer_output\n",
    "            else: \n",
    "                x = layer_output \n",
    "        \n",
    "        return x "
   ]
  },
  {
   "cell_type": "code",
   "execution_count": 43,
   "id": "bc4331d9",
   "metadata": {},
   "outputs": [],
   "source": [
    "layer_sizes = [3, 3, 3, 3, 3, 1]\n",
    "sample_input = torch.tensor([[1., 0., -1.]])\n",
    "torch.manual_seed(123)\n",
    "model_without_shortcut = ExampleDeepNeuralNetwork(\n",
    "layer_sizes, use_shortcut=False\n",
    ")"
   ]
  },
  {
   "cell_type": "code",
   "execution_count": 45,
   "id": "06127981",
   "metadata": {},
   "outputs": [],
   "source": [
    "def print_gradients(model, x):\n",
    "    output = model(x)\n",
    "    target = torch.tensor([[0.]])\n",
    "    loss = nn.MSELoss()\n",
    "    loss = loss(output, target)\n",
    "    loss.backward()\n",
    "    for name, param in model.named_parameters():\n",
    "        if 'weight' in name:\n",
    "            print(f\"{name} has gradient mean of {param.grad.abs().mean().item()}\")"
   ]
  },
  {
   "cell_type": "code",
   "execution_count": 47,
   "id": "d7725439",
   "metadata": {},
   "outputs": [
    {
     "name": "stdout",
     "output_type": "stream",
     "text": [
      "layers.0.0.weight has gradient mean of 0.00040347169851884246\n",
      "layers.1.0.weight has gradient mean of 0.00024022319121286273\n",
      "layers.2.0.weight has gradient mean of 0.0014304080978035927\n",
      "layers.3.0.weight has gradient mean of 0.002797747263684869\n",
      "layers.4.0.weight has gradient mean of 0.010099290870130062\n"
     ]
    }
   ],
   "source": [
    "print_gradients(model_without_shortcut, sample_input) \n",
    "# we can see the gradient becoming smaller , this is gradient vanishing problem :("
   ]
  },
  {
   "cell_type": "code",
   "execution_count": 48,
   "id": "e49b0c09",
   "metadata": {},
   "outputs": [
    {
     "name": "stdout",
     "output_type": "stream",
     "text": [
      "layers.0.0.weight has gradient mean of 0.22169791162014008\n",
      "layers.1.0.weight has gradient mean of 0.20694105327129364\n",
      "layers.2.0.weight has gradient mean of 0.32896995544433594\n",
      "layers.3.0.weight has gradient mean of 0.2665732204914093\n",
      "layers.4.0.weight has gradient mean of 1.3258540630340576\n"
     ]
    }
   ],
   "source": [
    "# lets now use skip connections \n",
    "torch.manual_seed(123)\n",
    "model_with_shortcut = ExampleDeepNeuralNetwork(\n",
    "layer_sizes, use_shortcut=True\n",
    ")\n",
    "print_gradients(model_with_shortcut, sample_input)"
   ]
  },
  {
   "cell_type": "code",
   "execution_count": 49,
   "id": "baefa823",
   "metadata": {},
   "outputs": [],
   "source": [
    "\n",
    "class MultiHeadAttention(nn.Module):\n",
    "    def __init__(self, d_in, d_out, context_length, dropout, num_heads, qkv_bias=False):\n",
    "        super().__init__()\n",
    "        assert d_out % num_heads == 0, \"d_out must be divisible by num_heads\"\n",
    "\n",
    "        self.d_out = d_out\n",
    "        self.num_heads = num_heads\n",
    "        self.head_dim = d_out // num_heads\n",
    "\n",
    "        self.W_query = nn.Linear(d_in, d_out, bias=qkv_bias)\n",
    "        self.W_key = nn.Linear(d_in, d_out, bias=qkv_bias)\n",
    "        self.W_value = nn.Linear(d_in, d_out, bias=qkv_bias)\n",
    "\n",
    "        self.out_proj = nn.Linear(d_out, d_out)\n",
    "        self.dropout = nn.Dropout(dropout)\n",
    "\n",
    "        mask = torch.triu(torch.ones(context_length, context_length), diagonal=1)\n",
    "        self.register_buffer(\"mask\", mask)\n",
    "\n",
    "    def forward(self, x):\n",
    "        B, T, D_in = x.shape\n",
    "\n",
    "        Q = self.W_query(x)  # (B, T, D_out)\n",
    "        K = self.W_key(x)    # (B, T, D_out)\n",
    "        V = self.W_value(x)  # (B, T, D_out)\n",
    "\n",
    "\n",
    "        Q = Q.view(B, T, self.num_heads, self.head_dim).transpose(1, 2)  # (B, num_heads, T, head_dim)\n",
    "        K = K.view(B, T, self.num_heads, self.head_dim).transpose(1, 2)\n",
    "        V = V.view(B, T, self.num_heads, self.head_dim).transpose(1, 2)\n",
    "\n",
    "        # Attention scores\n",
    "        attn_scores = (Q @ K.transpose(-2, -1)) / (self.head_dim ** 0.5)  # (B, num_heads, T, T)\n",
    "\n",
    "        mask = self.mask[:T, :T].bool()\n",
    "        attn_scores = attn_scores.masked_fill(mask[None, None, :, :], float('-inf'))\n",
    "\n",
    "        # Softmax and dropout\n",
    "        attn_weights = torch.softmax(attn_scores, dim=-1)\n",
    "        attn_weights = self.dropout(attn_weights)\n",
    "\n",
    "        # Apply attention\n",
    "        context = attn_weights @ V  # (B, num_heads, T, head_dim)\n",
    "\n",
    "        # Merge heads back\n",
    "        context = context.transpose(1, 2).contiguous().view(B, T, self.d_out)\n",
    "        context = self.out_proj(context)\n",
    "\n",
    "        return context\n"
   ]
  },
  {
   "cell_type": "code",
   "execution_count": 50,
   "id": "1ed0f2d8",
   "metadata": {},
   "outputs": [],
   "source": [
    "class TransformerBlock(nn.Module): \n",
    "    def __init__(self,cfg:dict):\n",
    "        super().__init__() \n",
    "        self.att = MultiHeadAttention(\n",
    "            d_in= cfg['emb_dim'],\n",
    "            d_out = cfg['emb_dim'], \n",
    "            context_length=cfg['context_length'], \n",
    "            num_heads = cfg['n_heads'], \n",
    "            dropout = cfg['drop_rate'], \n",
    "            qkv_bias=cfg['qkv_bias'] \n",
    "        )\n",
    "        self.ff = FeedForward(cfg) \n",
    "        self.norm1 = LayerNorm(cfg['emb_dim']) \n",
    "        self.norm2 = LayerNorm(cfg['emb_dim']) \n",
    "        self.drop_shortcut = nn.Dropout(cfg['drop_rate']) \n",
    "    \n",
    "    def forward(self,x): \n",
    "        shortcut = x \n",
    "        x = self.norm1(x) \n",
    "        x = self.att(x) \n",
    "        x = self.drop_shortcut(x) \n",
    "        x = x + shortcut \n",
    "\n",
    "        shortcut = x \n",
    "        x = self.norm2(x) \n",
    "        x = self.ff(x)  \n",
    "        x = self.drop_shortcut(x) \n",
    "        x = x + shortcut \n",
    "        return x \n"
   ]
  },
  {
   "cell_type": "code",
   "execution_count": 51,
   "id": "4f1ea87b",
   "metadata": {},
   "outputs": [
    {
     "name": "stdout",
     "output_type": "stream",
     "text": [
      "Input shape: torch.Size([2, 4, 768])\n",
      "Output shape: torch.Size([2, 4, 768])\n"
     ]
    }
   ],
   "source": [
    "torch.manual_seed(123)\n",
    "x = torch.rand(2, 4, 768)\n",
    "block = TransformerBlock(GPT_CONFIG_124M)\n",
    "output = block(x)\n",
    "print(\"Input shape:\", x.shape)\n",
    "print(\"Output shape:\", output.shape) "
   ]
  },
  {
   "cell_type": "code",
   "execution_count": 56,
   "id": "59cd8c78",
   "metadata": {},
   "outputs": [],
   "source": [
    "class GPTModel(nn.Module): \n",
    "    def __init__(self,cfg:dict): \n",
    "        super().__init__() \n",
    "        self.tok_emb = nn.Embedding(cfg['vocab_size'],cfg['emb_dim']) \n",
    "        self.pos_emb = nn.Embedding(cfg['context_length'],cfg['emb_dim']) \n",
    "        self.drop_emb = nn.Dropout(cfg['drop_rate']) \n",
    "\n",
    "        self.trf_blocks = nn.Sequential(\n",
    "            *[TransformerBlock(cfg) for _ in range(cfg['n_layers'])]\n",
    "        )\n",
    "        self.final_norm = LayerNorm(cfg['emb_dim']) \n",
    "\n",
    "        self.out_head = nn.Linear( \n",
    "            cfg['emb_dim'], cfg['vocab_size'],bias=False\n",
    "        )\n",
    "    \n",
    "    def forward(self,in_idx:torch.Tensor): \n",
    "        batch_size, sq_len =  in_idx.shape \n",
    "        tok_embeds = self.tok_emb(in_idx)  \n",
    "        pos_embeds = self.pos_emb(\n",
    "            torch.arange(sq_len,device=in_idx.device)\n",
    "        )\n",
    "        x = tok_embeds + pos_embeds \n",
    "        x = self.drop_emb(x) \n",
    "        x = self.trf_blocks(x) \n",
    "        x = self.final_norm(x) \n",
    "        logits = self.out_head(x) \n",
    "        return logits "
   ]
  },
  {
   "cell_type": "code",
   "execution_count": 57,
   "id": "27832745",
   "metadata": {},
   "outputs": [
    {
     "name": "stdout",
     "output_type": "stream",
     "text": [
      "Input batch:\n",
      " tensor([[6109, 3626, 6100,  345],\n",
      "        [6109, 1110, 6622,  257]])\n",
      "\n",
      "Output shape: torch.Size([2, 4, 50257])\n",
      "tensor([[[ 0.3613,  0.4222, -0.0711,  ...,  0.3483,  0.4661, -0.2838],\n",
      "         [-0.1792, -0.5660, -0.9485,  ...,  0.0477,  0.5181, -0.3168],\n",
      "         [ 0.7120,  0.0332,  0.1085,  ...,  0.1018, -0.4327, -0.2553],\n",
      "         [-1.0076,  0.3418, -0.1190,  ...,  0.7195,  0.4023,  0.0532]],\n",
      "\n",
      "        [[-0.2564,  0.0900,  0.0335,  ...,  0.2659,  0.4454, -0.6806],\n",
      "         [ 0.1230,  0.3653, -0.2074,  ...,  0.7705,  0.2710,  0.2246],\n",
      "         [ 1.0558,  1.0318, -0.2800,  ...,  0.6936,  0.3205, -0.3178],\n",
      "         [-0.1565,  0.3926,  0.3288,  ...,  1.2630, -0.1858,  0.0388]]],\n",
      "       grad_fn=<UnsafeViewBackward0>)\n"
     ]
    }
   ],
   "source": [
    "torch.manual_seed(123)\n",
    "model = GPTModel(GPT_CONFIG_124M)\n",
    "out = model(batch)\n",
    "print(\"Input batch:\\n\", batch)\n",
    "print(\"\\nOutput shape:\", out.shape)\n",
    "print(out)"
   ]
  },
  {
   "cell_type": "code",
   "execution_count": 58,
   "id": "346364c7",
   "metadata": {},
   "outputs": [
    {
     "name": "stdout",
     "output_type": "stream",
     "text": [
      "Total number of parameters: 163,009,536\n"
     ]
    }
   ],
   "source": [
    "total_params = sum(p.numel() for p in model.parameters())\n",
    "print(f\"Total number of parameters: {total_params:,}\")"
   ]
  },
  {
   "cell_type": "code",
   "execution_count": 59,
   "id": "4e5ad489",
   "metadata": {},
   "outputs": [
    {
     "name": "stdout",
     "output_type": "stream",
     "text": [
      "Token embedding layer shape: torch.Size([50257, 768])\n",
      "Output layer shape: torch.Size([50257, 768])\n"
     ]
    }
   ],
   "source": [
    "print(\"Token embedding layer shape:\", model.tok_emb.weight.shape)\n",
    "print(\"Output layer shape:\", model.out_head.weight.shape)"
   ]
  },
  {
   "cell_type": "code",
   "execution_count": 60,
   "id": "b537cca4",
   "metadata": {},
   "outputs": [
    {
     "name": "stdout",
     "output_type": "stream",
     "text": [
      "Number of trainable parameters considering weight tying: 124,412,160\n"
     ]
    }
   ],
   "source": [
    "total_params_gpt2 = (\n",
    "total_params - sum(p.numel()\n",
    "for p in model.out_head.parameters())\n",
    ")\n",
    "print(f\"Number of trainable parameters \"\n",
    "f\"considering weight tying: {total_params_gpt2:,}\"\n",
    ")"
   ]
  },
  {
   "cell_type": "code",
   "execution_count": 61,
   "id": "14562791",
   "metadata": {},
   "outputs": [
    {
     "name": "stdout",
     "output_type": "stream",
     "text": [
      "Total size of the model: 621.83 MB\n"
     ]
    }
   ],
   "source": [
    "# memory required \n",
    "total_size_bytes = total_params * 4\n",
    "total_size_mb = total_size_bytes / (1024 * 1024)\n",
    "print(f\"Total size of the model: {total_size_mb:.2f} MB\")"
   ]
  },
  {
   "cell_type": "code",
   "execution_count": 62,
   "id": "d7ab7ae5",
   "metadata": {},
   "outputs": [],
   "source": [
    "# generating text \n",
    "def generate_text_simple(model,idx,max_new_tokens,context_size): \n",
    "    for _ in range(max_new_tokens):\n",
    "        idx_cond = idx[:,-context_size:] \n",
    "        with torch.no_grad(): \n",
    "            logits = model(idx_cond) \n",
    "        logits = logits[:,-1,:]\n",
    "        probas = torch.softmax(logits,dim=-1) \n",
    "        idx_next = torch.argmax(probas,dim=-1,keepdim=True) \n",
    "        idx = torch.cat((idx,idx_next),dim=1) \n",
    "    return idx   \n"
   ]
  },
  {
   "cell_type": "code",
   "execution_count": 63,
   "id": "f1fcfd4f",
   "metadata": {},
   "outputs": [
    {
     "name": "stdout",
     "output_type": "stream",
     "text": [
      "encoded: [15496, 11, 314, 716]\n",
      "encoded_tensor.shape: torch.Size([1, 4])\n"
     ]
    }
   ],
   "source": [
    "start_context = \"Hello, I am\"\n",
    "encoded = tokenizer.encode(start_context)\n",
    "print(\"encoded:\", encoded)\n",
    "encoded_tensor = torch.tensor(encoded).unsqueeze(0)\n",
    "print(\"encoded_tensor.shape:\", encoded_tensor.shape)"
   ]
  },
  {
   "cell_type": "code",
   "execution_count": 64,
   "id": "3f9a589e",
   "metadata": {},
   "outputs": [
    {
     "name": "stdout",
     "output_type": "stream",
     "text": [
      "Output: tensor([[15496,    11,   314,   716, 27018, 24086, 47843, 30961, 42348,  7267]])\n",
      "Output lenght 10\n"
     ]
    }
   ],
   "source": [
    "model.eval() \n",
    "\n",
    "out = generate_text_simple(\n",
    "    model = model  , \n",
    "    idx = encoded_tensor, \n",
    "    max_new_tokens=6, \n",
    "    context_size = GPT_CONFIG_124M['context_length']\n",
    ")\n",
    "print(\"Output:\",out) \n",
    "print(\"Output lenght\",len(out[0]))"
   ]
  },
  {
   "cell_type": "code",
   "execution_count": 65,
   "id": "e62f62a2",
   "metadata": {},
   "outputs": [
    {
     "name": "stdout",
     "output_type": "stream",
     "text": [
      "Hello, I am Featureiman Byeswickattribute argue\n"
     ]
    }
   ],
   "source": [
    "decoded_text = tokenizer.decode(out.squeeze(0).tolist())\n",
    "print(decoded_text)"
   ]
  },
  {
   "cell_type": "code",
   "execution_count": null,
   "id": "69ab6054",
   "metadata": {},
   "outputs": [],
   "source": []
  },
  {
   "cell_type": "code",
   "execution_count": null,
   "id": "fd56de06",
   "metadata": {},
   "outputs": [],
   "source": []
  }
 ],
 "metadata": {
  "kernelspec": {
   "display_name": ".venv",
   "language": "python",
   "name": "python3"
  },
  "language_info": {
   "codemirror_mode": {
    "name": "ipython",
    "version": 3
   },
   "file_extension": ".py",
   "mimetype": "text/x-python",
   "name": "python",
   "nbconvert_exporter": "python",
   "pygments_lexer": "ipython3",
   "version": "3.13.3"
  }
 },
 "nbformat": 4,
 "nbformat_minor": 5
}
