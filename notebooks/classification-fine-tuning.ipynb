{
 "cells": [
  {
   "cell_type": "code",
   "execution_count": 1,
   "id": "d3b34331",
   "metadata": {},
   "outputs": [],
   "source": [
    "# dowloading and unzipping the dataset \n",
    "import urllib.request \n",
    "import zipfile \n",
    "import os \n",
    "from pathlib import Path \n",
    "\n",
    "url = \"https://archive.ics.uci.edu/static/public/228/sms+spam+collection.zip\"\n",
    "zip_path = \"sms_spam_collection.zip\"\n",
    "extracted_path = \"sms_spam_collection\"\n",
    "data_file_path = Path(extracted_path) / \"SMSSpamCollection.tsv\""
   ]
  },
  {
   "cell_type": "code",
   "execution_count": 2,
   "id": "eebc313c",
   "metadata": {},
   "outputs": [],
   "source": [
    "def download_and_unzip_spam_data(\n",
    "            url,zip_path,extracted_path,data_file_path\n",
    "            ):\n",
    "            if data_file_path.exists():  \n",
    "                print(f\"{data_file_path} already exists. skipping dowload\") \n",
    "                return \n",
    "            with urllib.request.urlopen(url) as respose: \n",
    "                with open(zip_path,'wb') as out_file: \n",
    "                    out_file.write(respose.read())\n",
    "            \n",
    "            with zipfile.ZipFile(zip_path,'r') as zip_ref: \n",
    "                zip_ref.extractall(extracted_path) \n",
    "            original_file_path = Path(extracted_path) / \"SMSSpamCollection\" \n",
    "            os.rename(original_file_path,data_file_path) \n",
    "            print(f\"File download and saved as {data_file_path}\") \n",
    "            "
   ]
  },
  {
   "cell_type": "code",
   "execution_count": null,
   "id": "654a0be6",
   "metadata": {},
   "outputs": [],
   "source": []
  }
 ],
 "metadata": {
  "kernelspec": {
   "display_name": "env",
   "language": "python",
   "name": "python3"
  },
  "language_info": {
   "codemirror_mode": {
    "name": "ipython",
    "version": 3
   },
   "file_extension": ".py",
   "mimetype": "text/x-python",
   "name": "python",
   "nbconvert_exporter": "python",
   "pygments_lexer": "ipython3",
   "version": "3.13.3"
  }
 },
 "nbformat": 4,
 "nbformat_minor": 5
}
